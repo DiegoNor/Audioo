{
  "nbformat": 4,
  "nbformat_minor": 0,
  "metadata": {
    "colab": {
      "provenance": [],
      "include_colab_link": true
    },
    "kernelspec": {
      "name": "python3",
      "display_name": "Python 3"
    },
    "language_info": {
      "name": "python"
    }
  },
  "cells": [
    {
      "cell_type": "markdown",
      "metadata": {
        "id": "view-in-github",
        "colab_type": "text"
      },
      "source": [
        "<a href=\"https://colab.research.google.com/github/DiegoNor/Audioo/blob/main/SESI%C3%93N_4_Operaciones_de_Mantenimiento_de_Datos.ipynb\" target=\"_parent\"><img src=\"https://colab.research.google.com/assets/colab-badge.svg\" alt=\"Open In Colab\"/></a>"
      ]
    },
    {
      "cell_type": "code",
      "source": [
        "from math import sqrt\n",
        "n=64\n",
        "print(sqrt(n))"
      ],
      "metadata": {
        "colab": {
          "base_uri": "https://localhost:8080/"
        },
        "id": "UNYoau1Mo0-v",
        "outputId": "f34e8f79-93a6-4103-ab93-4c7549ed1b7e"
      },
      "execution_count": 4,
      "outputs": [
        {
          "output_type": "stream",
          "name": "stdout",
          "text": [
            "8.0\n"
          ]
        }
      ]
    },
    {
      "cell_type": "code",
      "source": [
        "name= \"Diego\"\n",
        "print(\"Su nombre es:\", name)"
      ],
      "metadata": {
        "colab": {
          "base_uri": "https://localhost:8080/"
        },
        "id": "z4s9-2QWrhmr",
        "outputId": "0c5f1820-f578-4529-920e-dad36e4a22eb"
      },
      "execution_count": 6,
      "outputs": [
        {
          "output_type": "stream",
          "name": "stdout",
          "text": [
            "Su nombre es: Diego\n"
          ]
        }
      ]
    },
    {
      "cell_type": "code",
      "source": [
        "n=float(input(\"Ingrese un número:\"))\n",
        "a=n*n\n",
        "print(\"Su número elevado al cuadrado es:\", a)\n"
      ],
      "metadata": {
        "colab": {
          "base_uri": "https://localhost:8080/"
        },
        "id": "bD_BWViHsBsK",
        "outputId": "48a418fa-96ab-417a-c1c6-cc548e1fb8b1"
      },
      "execution_count": 18,
      "outputs": [
        {
          "output_type": "stream",
          "name": "stdout",
          "text": [
            "Ingrese un número:12.5\n",
            "Su número elevado al cuadrado es: 156.25\n"
          ]
        }
      ]
    },
    {
      "cell_type": "code",
      "source": [
        "#Escribir un programa que pregunte al usuario su edad y muestre por pantalla si es mayor de edad o no.\n",
        "edad=int(input(\"Ingrese su edad:\"))\n",
        "if edad>=18:\n",
        "    print(\"Es mayor de edad\")\n",
        "else:\n",
        "    print(\"Es menor de edad\")\n",
        "\n"
      ],
      "metadata": {
        "colab": {
          "base_uri": "https://localhost:8080/"
        },
        "id": "tcpsBb6YtOX3",
        "outputId": "cdcf648c-a1ab-45fc-edba-512098870cfd"
      },
      "execution_count": 20,
      "outputs": [
        {
          "output_type": "stream",
          "name": "stdout",
          "text": [
            "Ingrese su edad:19\n",
            "Es mayor de edad\n"
          ]
        }
      ]
    },
    {
      "cell_type": "code",
      "source": [
        "numero=int(input(\"Ingrese un número entero: \"))\n",
        "if numero % 2 == 1:\n",
        "   print(\"El número es impar\")\n",
        "else:\n",
        "   print(\"El número es par\")"
      ],
      "metadata": {
        "colab": {
          "base_uri": "https://localhost:8080/"
        },
        "id": "XJAvaHMnu0cY",
        "outputId": "916e5392-01ea-4638-8563-d947247c84db"
      },
      "execution_count": 21,
      "outputs": [
        {
          "output_type": "stream",
          "name": "stdout",
          "text": [
            "Ingrese un número entero: 15\n",
            "El número es impar\n"
          ]
        }
      ]
    },
    {
      "cell_type": "code",
      "source": [
        "#Escribir un programa que pida al usuario una palabra y la muestre por pantalla 10 veces\n",
        "\n",
        "p=input(\"Ingrese una palabra: \")\n",
        "a=0\n",
        "while a<10:\n",
        "  print(\"Su nombre es\" , p)\n",
        "  a +=1\n"
      ],
      "metadata": {
        "colab": {
          "base_uri": "https://localhost:8080/"
        },
        "id": "ut2cygSJz6bp",
        "outputId": "0c2676cf-5a5c-43bd-cff5-7fab219394e5"
      },
      "execution_count": 24,
      "outputs": [
        {
          "output_type": "stream",
          "name": "stdout",
          "text": [
            "Ingrese una palabra: Diego\n",
            "Su nombre es Diego\n",
            "Su nombre es Diego\n",
            "Su nombre es Diego\n",
            "Su nombre es Diego\n",
            "Su nombre es Diego\n",
            "Su nombre es Diego\n",
            "Su nombre es Diego\n",
            "Su nombre es Diego\n",
            "Su nombre es Diego\n",
            "Su nombre es Diego\n"
          ]
        }
      ]
    },
    {
      "cell_type": "code",
      "source": [
        "#Escribir un programa que pregunte al usuario su edad y muestre por pantalla todos los años que ha cumplido (desde 1 hasta su edad)\n",
        "edad=int(input(\"Ingrese su edad: \"))\n",
        "a=1\n",
        "while a<edad:\n",
        "      print(\"Usted ya cumplió:\",a, \"años\" )\n",
        "      a +=1\n"
      ],
      "metadata": {
        "colab": {
          "base_uri": "https://localhost:8080/"
        },
        "id": "EOOv1O8J1OSP",
        "outputId": "bd56c5be-73a7-4916-8991-75d89a700e7f"
      },
      "execution_count": 28,
      "outputs": [
        {
          "output_type": "stream",
          "name": "stdout",
          "text": [
            "Ingrese su edad: 8\n",
            "Usted ya cumplió: 1 años\n",
            "Usted ya cumplió: 2 años\n",
            "Usted ya cumplió: 3 años\n",
            "Usted ya cumplió: 4 años\n",
            "Usted ya cumplió: 5 años\n",
            "Usted ya cumplió: 6 años\n",
            "Usted ya cumplió: 7 años\n"
          ]
        }
      ]
    },
    {
      "cell_type": "code",
      "source": [
        "#Escribir un programa que pida al usuario un número entero positivo y muestre por pantalla todos los números impares desde 1 hasta ese número separados por comas.\n",
        "numero=int(input(\"Ingrese un número entero positivo: \"))\n",
        "contador=1\n",
        "n_impares = []\n",
        "while contador<numero:\n",
        "    if contador % 2 == 1:\n",
        "        n_impares.append(contador)\n",
        "    contador +=1\n",
        "print(\"Los números impares son:\", \", \".join(map(str, n_impares)))\n",
        "\n"
      ],
      "metadata": {
        "colab": {
          "base_uri": "https://localhost:8080/"
        },
        "id": "cwzZqycE2gR9",
        "outputId": "76651586-e3ee-4bd6-ee95-80c8bdb8d6b1"
      },
      "execution_count": 34,
      "outputs": [
        {
          "output_type": "stream",
          "name": "stdout",
          "text": [
            "Ingrese un número entero positivo: 13\n",
            "Los números impares son: 1, 3, 5, 7, 9, 11\n"
          ]
        }
      ]
    }
  ]
}